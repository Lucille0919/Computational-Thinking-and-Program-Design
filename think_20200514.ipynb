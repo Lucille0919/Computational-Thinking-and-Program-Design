{
  "nbformat": 4,
  "nbformat_minor": 0,
  "metadata": {
    "colab": {
      "name": "think_20200514",
      "provenance": [],
      "authorship_tag": "ABX9TyN2wE7RHb0A1BMthSDcS0ib",
      "include_colab_link": true
    },
    "kernelspec": {
      "name": "python3",
      "display_name": "Python 3"
    }
  },
  "cells": [
    {
      "cell_type": "markdown",
      "metadata": {
        "id": "view-in-github",
        "colab_type": "text"
      },
      "source": [
        "<a href=\"https://colab.research.google.com/github/Lucille0919/Computational-Thinking-and-Program-Design/blob/master/think_20200514.ipynb\" target=\"_parent\"><img src=\"https://colab.research.google.com/assets/colab-badge.svg\" alt=\"Open In Colab\"/></a>"
      ]
    },
    {
      "cell_type": "code",
      "metadata": {
        "id": "6rdiKfZHiy5P",
        "colab_type": "code",
        "outputId": "fab2475c-a852-4bf5-e9d5-a333a13e1e3a",
        "colab": {
          "base_uri": "https://localhost:8080/",
          "height": 185
        }
      },
      "source": [
        "print(\"哈囉。我是Zyxo 64。我是一個聊天機器人。\")\n",
        "print(\"我喜歡動物，也喜歡聊食物。\")\n",
        "name = input(\"你叫什麼名字？: \")\n",
        "print(\"你好\", name, \"很高興認識你\")\n",
        "year = input(\"我記不太清楚日期。今年是幾年？： \")\n",
        "print(\"好的，我覺得沒錯。謝謝！\")\n",
        "myage = input(\"你能猜出我的年齡嗎？ - 輸入一個數字： \")\n",
        "print(\"沒錯，你猜對了。我\", myage ,\"歲\")\n",
        "myage = int(myage)\n",
        "nyears = 100 - myage\n",
        "print(\"我再\", nyears, \"年就滿100歲了。\")\n",
        "print(\"到時候是\", int(year) + nyears) "
      ],
      "execution_count": 0,
      "outputs": [
        {
          "output_type": "stream",
          "text": [
            "哈囉。我是Zyxo 64。我是一個聊天機器人。\n",
            "我喜歡動物，也喜歡聊食物。\n",
            "你叫什麼名字？: Lucille\n",
            "你好 Lucille 很高興認識你\n",
            "我記不太清楚日期。今年是幾年？： 2020\n",
            "好的，我覺得沒錯。謝謝！\n",
            "你能猜出我的年齡嗎？ - 輸入一個數字： 20\n",
            "沒錯，你猜對了。我 20 歲\n",
            "我再 80 年就滿100歲了。\n",
            "到時候是 2100\n"
          ],
          "name": "stdout"
        }
      ]
    },
    {
      "cell_type": "markdown",
      "metadata": {
        "id": "KCFYOfMMjXqA",
        "colab_type": "text"
      },
      "source": [
        "#食物話題"
      ]
    },
    {
      "cell_type": "code",
      "metadata": {
        "id": "aJIcON8EjWed",
        "colab_type": "code",
        "outputId": "fa7973a7-2b88-4d2c-ccc5-9a9d6ce67787",
        "colab": {
          "base_uri": "https://localhost:8080/",
          "height": 101
        }
      },
      "source": [
        "print(\"我喜歡巧克力，也喜歡嘗試各種新食物。\")\n",
        "food = input(\"你呢。你最喜歡的食物是什麼？： \")\n",
        "print(\"我也喜歡\", food)\n",
        "question = \"你多久吃一次\" + food + \"?: \"\n",
        "howoften = input(question)\n",
        "print(\"真有趣。不知道這樣對健康好不好！\")"
      ],
      "execution_count": 0,
      "outputs": [
        {
          "output_type": "stream",
          "text": [
            "我喜歡巧克力，也喜歡嘗試各種新食物。\n",
            "你呢。你最喜歡的食物是什麼？： 火鍋\n",
            "我也喜歡 火鍋\n",
            "你多久吃一次火鍋?: 一週2次\n",
            "真有趣。不知道這樣對健康好不好！\n"
          ],
          "name": "stdout"
        }
      ]
    },
    {
      "cell_type": "markdown",
      "metadata": {
        "id": "J8I8XYb5joSJ",
        "colab_type": "text"
      },
      "source": [
        "#動物話題"
      ]
    },
    {
      "cell_type": "code",
      "metadata": {
        "id": "vkcVYGqRju3T",
        "colab_type": "code",
        "outputId": "45d22037-5dde-434b-e5b8-094add2855ba",
        "colab": {
          "base_uri": "https://localhost:8080/",
          "height": 67
        }
      },
      "source": [
        "animal = input(\"我最喜歡的動物是長頸鹿。你呢？； \")\n",
        "print(animal, \"! 我不喜歡。\")\n",
        "print(\"不知道\", animal, \"喜不喜歡吃\", food, \"?\")"
      ],
      "execution_count": 0,
      "outputs": [
        {
          "output_type": "stream",
          "text": [
            "我最喜歡的動物是長頸鹿。你呢？； 狗狗\n",
            "狗狗 ! 我不喜歡。\n",
            "不知道 狗狗 喜不喜歡吃 火鍋 ?\n"
          ],
          "name": "stdout"
        }
      ]
    },
    {
      "cell_type": "markdown",
      "metadata": {
        "id": "af39StrUj5Yw",
        "colab_type": "text"
      },
      "source": [
        "#關於心情的對話"
      ]
    },
    {
      "cell_type": "code",
      "metadata": {
        "id": "emh2SW6bj7gF",
        "colab_type": "code",
        "outputId": "a6744518-d049-4ad9-d0ce-cfdbd650fbf9",
        "colab": {
          "base_uri": "https://localhost:8080/",
          "height": 84
        }
      },
      "source": [
        "feeling = input(\"你今天覺得如何？； \")\n",
        "print(\"為什麼你現在覺得\", feeling, \"呢？\")\n",
        "reason = input(\"請告訴我： \")\n",
        "print(\"我知道了。謝謝分享。\")"
      ],
      "execution_count": 0,
      "outputs": [
        {
          "output_type": "stream",
          "text": [
            "你今天覺得如何？； 很累\n",
            "為什麼你現在覺得 很累 呢？\n",
            "請告訴我： 因為上班很忙\n",
            "我知道了。謝謝分享。\n"
          ],
          "name": "stdout"
        }
      ]
    },
    {
      "cell_type": "markdown",
      "metadata": {
        "id": "p8kMi1jLkOW9",
        "colab_type": "text"
      },
      "source": [
        "#道別"
      ]
    },
    {
      "cell_type": "code",
      "metadata": {
        "id": "t5OP99RokQDR",
        "colab_type": "code",
        "outputId": "519ea9dd-8231-4c76-9072-d9a14aa97f35",
        "colab": {
          "base_uri": "https://localhost:8080/",
          "height": 67
        }
      },
      "source": [
        "print(\"今天事情真多！\")\n",
        "print(\"我累到無法繼續聊天了，之後再聊。\")\n",
        "print(\"再見\", name, \"我喜歡跟你聊天！\")"
      ],
      "execution_count": 0,
      "outputs": [
        {
          "output_type": "stream",
          "text": [
            "今天事情真多！\n",
            "我累到無法繼續聊天了，之後再聊。\n",
            "再見 Lucille 我喜歡跟你聊天！\n"
          ],
          "name": "stdout"
        }
      ]
    }
  ]
}