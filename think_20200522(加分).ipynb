{
  "nbformat": 4,
  "nbformat_minor": 0,
  "metadata": {
    "colab": {
      "name": "think_20200522(加分).ipynb",
      "provenance": [],
      "authorship_tag": "ABX9TyOPr8hCGFnXpAbUgvYnBvZm",
      "include_colab_link": true
    },
    "kernelspec": {
      "name": "python3",
      "display_name": "Python 3"
    }
  },
  "cells": [
    {
      "cell_type": "markdown",
      "metadata": {
        "id": "view-in-github",
        "colab_type": "text"
      },
      "source": [
        "<a href=\"https://colab.research.google.com/github/Lucille0919/Computational-Thinking-and-Program-Design/blob/master/think_20200522(%E5%8A%A0%E5%88%86).ipynb\" target=\"_parent\"><img src=\"https://colab.research.google.com/assets/colab-badge.svg\" alt=\"Open In Colab\"/></a>"
      ]
    },
    {
      "cell_type": "code",
      "metadata": {
        "id": "QJqHt2GeD2Aw",
        "colab_type": "code",
        "colab": {
          "base_uri": "https://localhost:8080/",
          "height": 84
        },
        "outputId": "6104a619-3866-4064-e4fe-83050cd3dfd8"
      },
      "source": [
        "#Input\n",
        "noodle = input(\"有麵嗎？(YES/NO)\")\n",
        "sauce = input(\"有醬料嗎？(YES/NO)\")\n",
        "\n",
        "#Process\n",
        "if noodle == \"YES\" and sauce == \"YES\":\n",
        "    print(\"今晚吃義大利麵\")\n",
        "\n",
        "#Output\n",
        "print(\"Well done!\")"
      ],
      "execution_count": 19,
      "outputs": [
        {
          "output_type": "stream",
          "text": [
            "有麵嗎？(YES/NO)YES\n",
            "有醬料嗎？(YES/NO)YES\n",
            "今晚吃義大利麵\n",
            "Well done!\n"
          ],
          "name": "stdout"
        }
      ]
    },
    {
      "cell_type": "code",
      "metadata": {
        "id": "WRoAvol7D7nA",
        "colab_type": "code",
        "colab": {
          "base_uri": "https://localhost:8080/",
          "height": 84
        },
        "outputId": "579cee81-2c38-492a-fedb-cf3879a84bf7"
      },
      "source": [
        "#Input\n",
        "noodle = input(\"有麵嗎？(YES/NO)\")\n",
        "sauce = input(\"有醬料嗎？(YES/NO)\")\n",
        "\n",
        "#Process\n",
        "if noodle == \"NO\" and sauce == \"NO\":\n",
        "    print(\"今晚不能吃義大利麵\")\n",
        "\n",
        "#Output\n",
        "print(\"So sad\") "
      ],
      "execution_count": 21,
      "outputs": [
        {
          "output_type": "stream",
          "text": [
            "有麵嗎？(YES/NO)NO\n",
            "有醬料嗎？(YES/NO)NO\n",
            "今晚不能吃義大利麵\n",
            "So sad\n"
          ],
          "name": "stdout"
        }
      ]
    },
    {
      "cell_type": "code",
      "metadata": {
        "id": "O0t8Sd2dECF_",
        "colab_type": "code",
        "colab": {
          "base_uri": "https://localhost:8080/",
          "height": 84
        },
        "outputId": "fe73b1e1-9838-4935-a03a-151747900fe6"
      },
      "source": [
        "#Input\n",
        "noodle = input(\"有麵嗎？(YES/NO)\")\n",
        "sauce = input(\"有醬料嗎？(YES/NO)\")\n",
        "\n",
        "#Process\n",
        "if noodle ==\"YES\":\n",
        "    if sauce == \"YES\":\n",
        "        print(\"可做義大利麵！\")\n",
        "\n",
        "#Output\n",
        "print(\"真是太好了！\")"
      ],
      "execution_count": 22,
      "outputs": [
        {
          "output_type": "stream",
          "text": [
            "有麵嗎？(YES/NO)YES\n",
            "有醬料嗎？(YES/NO)YES\n",
            "可做義大利麵！\n",
            "真是太好了！\n"
          ],
          "name": "stdout"
        }
      ]
    },
    {
      "cell_type": "code",
      "metadata": {
        "id": "Wx-nD44nEeQ9",
        "colab_type": "code",
        "colab": {
          "base_uri": "https://localhost:8080/",
          "height": 84
        },
        "outputId": "bf8f8d3c-6856-4060-97c0-1996a6130db3"
      },
      "source": [
        "#Input\n",
        "noodle = input(\"有麵嗎？(YES/NO)\")\n",
        "sauce = input(\"有醬料嗎？(YES/NO)\")\n",
        "\n",
        "#Process\n",
        "if noodle ==\"YES\":\n",
        "    if sauce == \"YES\":\n",
        "        print(\"可做義大利麵！\")\n",
        "if noodle ==\"NO\":\n",
        "    if sauce == \"NO\":\n",
        "        print(\"不可做義大利麵\")        \n",
        "\n",
        "#Output\n",
        "if noodle == \"YES\":\n",
        "    if sauce == \"YES\":\n",
        "        print(\"真是太好了！\")\n",
        "if noodle == \"NO\":\n",
        "    if sauce == \"NO\":   \n",
        "        print(\"嗚嗚嗚好難過\")"
      ],
      "execution_count": 23,
      "outputs": [
        {
          "output_type": "stream",
          "text": [
            "有麵嗎？(YES/NO)NO\n",
            "有醬料嗎？(YES/NO)NO\n",
            "不可做義大利麵\n",
            "嗚嗚嗚好難過\n"
          ],
          "name": "stdout"
        }
      ]
    }
  ]
}