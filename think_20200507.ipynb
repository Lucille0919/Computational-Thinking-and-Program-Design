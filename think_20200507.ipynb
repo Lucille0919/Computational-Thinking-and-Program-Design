{
  "nbformat": 4,
  "nbformat_minor": 0,
  "metadata": {
    "colab": {
      "name": "think_20200507.ipynb",
      "provenance": [],
      "authorship_tag": "ABX9TyNDgP1icm9IxB9vIJ63dvFo",
      "include_colab_link": true
    },
    "kernelspec": {
      "name": "python3",
      "display_name": "Python 3"
    }
  },
  "cells": [
    {
      "cell_type": "markdown",
      "metadata": {
        "id": "view-in-github",
        "colab_type": "text"
      },
      "source": [
        "<a href=\"https://colab.research.google.com/github/Lucille0919/Computational-Thinking-and-Program-Design/blob/master/think_20200507.ipynb\" target=\"_parent\"><img src=\"https://colab.research.google.com/assets/colab-badge.svg\" alt=\"Open In Colab\"/></a>"
      ]
    },
    {
      "cell_type": "markdown",
      "metadata": {
        "id": "eHENc9Gn4oOs",
        "colab_type": "text"
      },
      "source": [
        "LBD 4: 為了刺激銷售量，賣場通常買一打會比買一罐便宜，假設一罐賣20元，一打賣200元，請設計一個程式計算買幾罐需花多少錢，若不足一打就個別買。"
      ]
    },
    {
      "cell_type": "code",
      "metadata": {
        "id": "ldeovSdC4rQv",
        "colab_type": "code",
        "colab": {
          "base_uri": "https://localhost:8080/",
          "height": 50
        },
        "outputId": "83fd283b-05d4-49bd-fa64-8d271b2d786a"
      },
      "source": [
        "飲料數量=int(input('請輸入飲料數量?'))\n",
        "打數=(飲料數量//12)\n",
        "罐數=(飲料數量%12)\n",
        "總金額=打數*200+罐數*20\n",
        "print('飲料的總金額為',總金額)"
      ],
      "execution_count": 1,
      "outputs": [
        {
          "output_type": "stream",
          "text": [
            "請輸入飲料數量?49\n",
            "飲料的總金額為 820\n"
          ],
          "name": "stdout"
        }
      ]
    },
    {
      "cell_type": "markdown",
      "metadata": {
        "id": "jjpEyRTV5DRg",
        "colab_type": "text"
      },
      "source": [
        "LBD 5: 請輸入第一次期中考、第二次期中考與期末考成績，成績皆為整數，請計算分數的加總與平均。"
      ]
    },
    {
      "cell_type": "code",
      "metadata": {
        "id": "ur2X1ukb4kRe",
        "colab_type": "code",
        "colab": {
          "base_uri": "https://localhost:8080/",
          "height": 67
        },
        "outputId": "9f3e3c21-c44b-4c07-c4df-18213adcf049"
      },
      "source": [
        "第一次期中考成績 = int(input(\"請輸入第一次期中考成績\"))\n",
        "第二次期中考成績 = int(input(\"請輸入第二次期中考成績\"))\n",
        "期末考成績 = int(input(\"請輸入期末考成績\"))"
      ],
      "execution_count": 2,
      "outputs": [
        {
          "output_type": "stream",
          "text": [
            "請輸入第一次期中考成績85\n",
            "請輸入第二次期中考成績76\n",
            "請輸入期末考成績88\n"
          ],
          "name": "stdout"
        }
      ]
    },
    {
      "cell_type": "code",
      "metadata": {
        "id": "CbailuGC5Hdq",
        "colab_type": "code",
        "colab": {
          "base_uri": "https://localhost:8080/",
          "height": 50
        },
        "outputId": "f30fd8f6-47de-4cd6-fe2d-5a769ae6243d"
      },
      "source": [
        "總分數 = 第一次期中考成績 + 第二次期中考成績 + 期末考成績\n",
        "print(\"總分數為\",總分數)\n",
        "平均分數 = (第一次期中考成績 + 第二次期中考成績 + 期末考成績)//3\n",
        "print(\"平均分數為\",平均分數)"
      ],
      "execution_count": 3,
      "outputs": [
        {
          "output_type": "stream",
          "text": [
            "總分數為 249\n",
            "平均分數為 83\n"
          ],
          "name": "stdout"
        }
      ]
    }
  ]
}