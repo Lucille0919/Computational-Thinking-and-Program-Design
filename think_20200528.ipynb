{
  "nbformat": 4,
  "nbformat_minor": 0,
  "metadata": {
    "colab": {
      "name": "think_20200528.ipynb",
      "provenance": [],
      "authorship_tag": "ABX9TyOs6hYsFkdUsV8U3Zt55OyV",
      "include_colab_link": true
    },
    "kernelspec": {
      "name": "python3",
      "display_name": "Python 3"
    }
  },
  "cells": [
    {
      "cell_type": "markdown",
      "metadata": {
        "id": "view-in-github",
        "colab_type": "text"
      },
      "source": [
        "<a href=\"https://colab.research.google.com/github/Lucille0919/Computational-Thinking-and-Program-Design/blob/master/think_20200528.ipynb\" target=\"_parent\"><img src=\"https://colab.research.google.com/assets/colab-badge.svg\" alt=\"Open In Colab\"/></a>"
      ]
    },
    {
      "cell_type": "code",
      "metadata": {
        "id": "yhBSKA75mLPn",
        "colab_type": "code",
        "colab": {
          "base_uri": "https://localhost:8080/",
          "height": 50
        },
        "outputId": "38792a3c-7179-48a3-8968-2b7e98c75ec5"
      },
      "source": [
        "score=input(\"請輸入成績?\")\n",
        "score=int(score)\n",
        "if score>=80:\n",
        "   print(\"Well done!\")\n",
        "if 80>score>=60:\n",
        "   print(\"Good,Pass\")\n",
        "else:\n",
        "   print(\"Work Harder\")"
      ],
      "execution_count": 2,
      "outputs": [
        {
          "output_type": "stream",
          "text": [
            "請輸入成績?78\n",
            "Good,Pass\n"
          ],
          "name": "stdout"
        }
      ]
    },
    {
      "cell_type": "code",
      "metadata": {
        "id": "dR_6eUSGmgZO",
        "colab_type": "code",
        "colab": {
          "base_uri": "https://localhost:8080/",
          "height": 50
        },
        "outputId": "9aea5686-df48-4813-de28-7e157a11e830"
      },
      "source": [
        "score=input(\"請輸入成績?\")\n",
        "score=int(score)\n",
        "if score>=80:\n",
        "   print(\"Well done!\")\n",
        "else:\n",
        "  print(\"Oiling\")\n",
        "  if score>=60:\n",
        "    print(\"Good,Pass\")\n",
        "  else:\n",
        "   print(\"Work Harder\")"
      ],
      "execution_count": 3,
      "outputs": [
        {
          "output_type": "stream",
          "text": [
            "請輸入成績?85\n",
            "Well done!\n"
          ],
          "name": "stdout"
        }
      ]
    },
    {
      "cell_type": "code",
      "metadata": {
        "id": "bg4gUqs3ml37",
        "colab_type": "code",
        "colab": {
          "base_uri": "https://localhost:8080/",
          "height": 50
        },
        "outputId": "74a9e5dc-a1e9-4b24-b47a-b179a8de9bf8"
      },
      "source": [
        "score=input(\"請輸入成績?\")\n",
        "score=int(score)\n",
        "if score>=80:\n",
        "   print(\"Well done!\")\n",
        "elif score>=60:\n",
        "   print(\"Good,Pass\")\n",
        "else:\n",
        "   print(\"Work Harder\")"
      ],
      "execution_count": 4,
      "outputs": [
        {
          "output_type": "stream",
          "text": [
            "請輸入成績?54\n",
            "Work Harder\n"
          ],
          "name": "stdout"
        }
      ]
    }
  ]
}