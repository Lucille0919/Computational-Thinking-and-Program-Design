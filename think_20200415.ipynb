{
  "nbformat": 4,
  "nbformat_minor": 0,
  "metadata": {
    "colab": {
      "name": "think_20200415.ipynb",
      "provenance": [],
      "collapsed_sections": [],
      "include_colab_link": true
    },
    "kernelspec": {
      "name": "python3",
      "display_name": "Python 3"
    }
  },
  "cells": [
    {
      "cell_type": "markdown",
      "metadata": {
        "id": "view-in-github",
        "colab_type": "text"
      },
      "source": [
        "<a href=\"https://colab.research.google.com/github/Lucille0919/Computational-Thinking-and-Program-Design/blob/master/think_20200415.ipynb\" target=\"_parent\"><img src=\"https://colab.research.google.com/assets/colab-badge.svg\" alt=\"Open In Colab\"/></a>"
      ]
    },
    {
      "cell_type": "code",
      "metadata": {
        "id": "Lgqu5ZzWasY1",
        "colab_type": "code",
        "outputId": "5d269328-f138-417a-b6f6-c12ab3974027",
        "colab": {
          "base_uri": "https://localhost:8080/",
          "height": 35
        }
      },
      "source": [
        "drama_title=\"梨泰院Class\"\n",
        "print(drama_title)"
      ],
      "execution_count": 0,
      "outputs": [
        {
          "output_type": "stream",
          "text": [
            "梨泰院Class\n"
          ],
          "name": "stdout"
        }
      ]
    },
    {
      "cell_type": "code",
      "metadata": {
        "id": "rwyS9ySDlZI8",
        "colab_type": "code",
        "outputId": "1864e167-073c-44b8-95d5-e8e30c4e4357",
        "colab": {
          "base_uri": "https://localhost:8080/",
          "height": 35
        }
      },
      "source": [
        "korean_name=\"이태원클라쓰\"\n",
        "print(korean_name)"
      ],
      "execution_count": 0,
      "outputs": [
        {
          "output_type": "stream",
          "text": [
            "이태원클라쓰\n"
          ],
          "name": "stdout"
        }
      ]
    },
    {
      "cell_type": "code",
      "metadata": {
        "id": "ovFD5r2BnHo5",
        "colab_type": "code",
        "outputId": "36ec57fd-bd45-4847-c1fe-37d5396f92ad",
        "colab": {
          "base_uri": "https://localhost:8080/",
          "height": 35
        }
      },
      "source": [
        "male_lead=\"朴敘俊\"\n",
        "print(male_lead)"
      ],
      "execution_count": 0,
      "outputs": [
        {
          "output_type": "stream",
          "text": [
            "朴敘俊\n"
          ],
          "name": "stdout"
        }
      ]
    },
    {
      "cell_type": "code",
      "metadata": {
        "id": "UcGWVcZ9n6Wu",
        "colab_type": "code",
        "outputId": "4ef3585a-fe70-44c2-f060-2c005a16ecf3",
        "colab": {
          "base_uri": "https://localhost:8080/",
          "height": 35
        }
      },
      "source": [
        "Heroine=\"金多美\"\n",
        "print(Heroine)"
      ],
      "execution_count": 0,
      "outputs": [
        {
          "output_type": "stream",
          "text": [
            "金多美\n"
          ],
          "name": "stdout"
        }
      ]
    },
    {
      "cell_type": "code",
      "metadata": {
        "id": "CufNgkWXokok",
        "colab_type": "code",
        "outputId": "90038e12-15f1-442f-f1c4-7e88048bd918",
        "colab": {
          "base_uri": "https://localhost:8080/",
          "height": 35
        }
      },
      "source": [
        "Supporting_actor=\"金東希\"\n",
        "print(Supporting_actor)"
      ],
      "execution_count": 0,
      "outputs": [
        {
          "output_type": "stream",
          "text": [
            "金東希\n"
          ],
          "name": "stdout"
        }
      ]
    },
    {
      "cell_type": "code",
      "metadata": {
        "id": "YGWvwhwmpI3b",
        "colab_type": "code",
        "outputId": "d70f0753-2042-40b1-e9ce-0dbbc24d9e7a",
        "colab": {
          "base_uri": "https://localhost:8080/",
          "height": 35
        }
      },
      "source": [
        "Supporting_actress=\"權娜拉\"\n",
        "print(Supporting_actress)"
      ],
      "execution_count": 0,
      "outputs": [
        {
          "output_type": "stream",
          "text": [
            "權娜拉\n"
          ],
          "name": "stdout"
        }
      ]
    },
    {
      "cell_type": "code",
      "metadata": {
        "id": "UQTRyxpipbRT",
        "colab_type": "code",
        "outputId": "400d571a-df5a-43eb-8343-df4908379674",
        "colab": {
          "base_uri": "https://localhost:8080/",
          "height": 35
        }
      },
      "source": [
        "theme_song=\"開始\"\n",
        "print(theme_song)"
      ],
      "execution_count": 0,
      "outputs": [
        {
          "output_type": "stream",
          "text": [
            "開始\n"
          ],
          "name": "stdout"
        }
      ]
    },
    {
      "cell_type": "code",
      "metadata": {
        "id": "Z7iUGO-Op3iS",
        "colab_type": "code",
        "outputId": "f6b0578e-1571-4b8c-88b5-0cc035df8b30",
        "colab": {
          "base_uri": "https://localhost:8080/",
          "height": 35
        }
      },
      "source": [
        "release_time=\"2001/1/31\"\n",
        "print(release_time)"
      ],
      "execution_count": 0,
      "outputs": [
        {
          "output_type": "stream",
          "text": [
            "2001/1/31\n"
          ],
          "name": "stdout"
        }
      ]
    },
    {
      "cell_type": "code",
      "metadata": {
        "id": "2BqGGxauqNwJ",
        "colab_type": "code",
        "outputId": "cbf7fd54-a795-47c2-b84f-e69b39ed9d02",
        "colab": {
          "base_uri": "https://localhost:8080/",
          "height": 35
        }
      },
      "source": [
        "show_time=\"禮拜五和六22:50\"\n",
        "print(show_time)"
      ],
      "execution_count": 0,
      "outputs": [
        {
          "output_type": "stream",
          "text": [
            "禮拜五和六22:50\n"
          ],
          "name": "stdout"
        }
      ]
    },
    {
      "cell_type": "code",
      "metadata": {
        "id": "DO78z7yMqmCj",
        "colab_type": "code",
        "outputId": "7a76a954-41a4-443c-9ad6-3a7487c25f16",
        "colab": {
          "base_uri": "https://localhost:8080/",
          "height": 35
        }
      },
      "source": [
        "release_TV_station=\"JTBC\"\n",
        "print(release_TV_station)"
      ],
      "execution_count": 0,
      "outputs": [
        {
          "output_type": "stream",
          "text": [
            "JTBC\n"
          ],
          "name": "stdout"
        }
      ]
    },
    {
      "cell_type": "code",
      "metadata": {
        "id": "8P5YUCNDq8Q9",
        "colab_type": "code",
        "outputId": "570fa8d4-2447-48a5-cb2f-13fe078ccdd3",
        "colab": {
          "base_uri": "https://localhost:8080/",
          "height": 35
        }
      },
      "source": [
        "director=\"金成允\"\n",
        "print(director)"
      ],
      "execution_count": 0,
      "outputs": [
        {
          "output_type": "stream",
          "text": [
            "金成允\n"
          ],
          "name": "stdout"
        }
      ]
    },
    {
      "cell_type": "code",
      "metadata": {
        "id": "Pv5iylXTrSn9",
        "colab_type": "code",
        "outputId": "22b558a8-5525-4a4e-e12b-da9d0eed8e46",
        "colab": {
          "base_uri": "https://localhost:8080/",
          "height": 35
        }
      },
      "source": [
        "Original_author=\"趙光真\"\n",
        "print(Original_author)"
      ],
      "execution_count": 0,
      "outputs": [
        {
          "output_type": "stream",
          "text": [
            "趙光真\n"
          ],
          "name": "stdout"
        }
      ]
    }
  ]
}