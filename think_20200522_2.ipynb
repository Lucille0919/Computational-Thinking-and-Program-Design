{
  "nbformat": 4,
  "nbformat_minor": 0,
  "metadata": {
    "colab": {
      "name": "think_20200522_2.ipynb",
      "provenance": [],
      "authorship_tag": "ABX9TyOrPIT+C9ior/9GneYGNT71",
      "include_colab_link": true
    },
    "kernelspec": {
      "name": "python3",
      "display_name": "Python 3"
    }
  },
  "cells": [
    {
      "cell_type": "markdown",
      "metadata": {
        "id": "view-in-github",
        "colab_type": "text"
      },
      "source": [
        "<a href=\"https://colab.research.google.com/github/Lucille0919/Computational-Thinking-and-Program-Design/blob/master/think_20200522_2.ipynb\" target=\"_parent\"><img src=\"https://colab.research.google.com/assets/colab-badge.svg\" alt=\"Open In Colab\"/></a>"
      ]
    },
    {
      "cell_type": "code",
      "metadata": {
        "id": "NbRacW9EFITd",
        "colab_type": "code",
        "outputId": "f2333794-1eb8-41dc-ae26-e1305b4076b7",
        "colab": {
          "base_uri": "https://localhost:8080/",
          "height": 67
        }
      },
      "source": [
        "hungry=input(\"現在餓嗎?YES or NO\")\n",
        "price=float(input(\"一條巧克力多少錢?\"))\n",
        "\n",
        "bars=0\n",
        "if hungry==\"YES\":\n",
        "  if price<10:\n",
        "     print(\"便宜，多買點\")\n",
        "     bars=100\n",
        "  if 10<=price<=50:\n",
        "    print(\"還好，買一些\")\n",
        "    bars=10\n",
        "  if price>50:\n",
        "    print(\"好貴，買一條\")\n",
        "    bars=1\n",
        "if hungry==\"NO\":\n",
        "  print(\"不餓就不買了\")\n",
        "if bars>10:\n",
        "  print(\"店員說:今天很餓!\")"
      ],
      "execution_count": 0,
      "outputs": [
        {
          "output_type": "stream",
          "text": [
            "現在餓嗎?YES or NOYES\n",
            "一條巧克力多少錢?35\n",
            "還好，買一些\n"
          ],
          "name": "stdout"
        }
      ]
    }
  ]
}