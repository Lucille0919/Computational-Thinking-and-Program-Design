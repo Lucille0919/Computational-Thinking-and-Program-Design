{
  "nbformat": 4,
  "nbformat_minor": 0,
  "metadata": {
    "colab": {
      "name": "Copy of think_20200416.ipynb",
      "provenance": [],
      "collapsed_sections": [],
      "include_colab_link": true
    },
    "kernelspec": {
      "name": "python3",
      "display_name": "Python 3"
    }
  },
  "cells": [
    {
      "cell_type": "markdown",
      "metadata": {
        "id": "view-in-github",
        "colab_type": "text"
      },
      "source": [
        "<a href=\"https://colab.research.google.com/github/Lucille0919/Computational-Thinking-and-Program-Design/blob/master/Copy_of_think_20200416(%E4%BF%AE%E6%94%B9).ipynb\" target=\"_parent\"><img src=\"https://colab.research.google.com/assets/colab-badge.svg\" alt=\"Open In Colab\"/></a>"
      ]
    },
    {
      "cell_type": "code",
      "metadata": {
        "id": "gcCe6rwZC7Y5",
        "colab_type": "code",
        "outputId": "bdf91a34-fa9c-479b-9c7a-6b2615eec2e4",
        "colab": {
          "base_uri": "https://localhost:8080/",
          "height": 168
        }
      },
      "source": [
        "input(\"What's your name?\")\n",
        "input(\"What's your age?\")\n",
        "input(\"What's your weight?\")\n",
        "name = input(\"請問貴姓大名?\")\n",
        "print(\"你好，\",name)\n",
        "y = int(input(\"請問年紀是?\"))\n",
        "print(\"原來你\", y ,\"歲~\")\n",
        "w = float(input(\"那請問體重是?\"))\n",
        "print(\"體重為\" , w , \"公斤\")"
      ],
      "execution_count": 0,
      "outputs": [
        {
          "output_type": "stream",
          "text": [
            "What's your name?Lucille\n",
            "What's your age?19\n",
            "What's your weight?43\n",
            "請問貴姓大名?Lucille\n",
            "你好， Lucille\n",
            "請問年紀是?19\n",
            "原來你 19 歲~\n",
            "那請問體重是?43\n",
            "體重為 43.0 公斤\n"
          ],
          "name": "stdout"
        }
      ]
    },
    {
      "cell_type": "code",
      "metadata": {
        "id": "vXezDW2TDCBy",
        "colab_type": "code",
        "outputId": "1cc746b0-a381-4840-fa84-e1d2894afafa",
        "colab": {
          "base_uri": "https://localhost:8080/",
          "height": 118
        }
      },
      "source": [
        "a = int(input(\"a = \"))\n",
        "b = int(input(\"b = \"))\n",
        "print(a)\n",
        "print(b)\n",
        "print(a + b)\n",
        "print( a + 1 )\n"
      ],
      "execution_count": 0,
      "outputs": [
        {
          "output_type": "stream",
          "text": [
            "a = 123\n",
            "b = 456\n",
            "123\n",
            "456\n",
            "579\n",
            "124\n"
          ],
          "name": "stdout"
        }
      ]
    },
    {
      "cell_type": "code",
      "metadata": {
        "id": "ej7OF9ecZOWo",
        "colab_type": "code",
        "outputId": "67d9407b-4f28-4927-847b-06927e98e270",
        "colab": {
          "base_uri": "https://localhost:8080/",
          "height": 84
        }
      },
      "source": [
        "player_N = input(\"請輸入球員姓名：\")\n",
        "player_H = input(\"請輸入球員身高（cm）：\")\n",
        "player_W = input(\"請輸入球員體重（kg）：\")\n",
        "H1 = float(player_H)\n",
        "W2 = float(player_W)\n",
        "BMI = eval(\" W2 / (H1*0.01)**2\")\n",
        "player_BMI = print ((\"球員的BMI是：\" ),BMI)"
      ],
      "execution_count": 0,
      "outputs": [
        {
          "output_type": "stream",
          "text": [
            "請輸入球員姓名：Stephen Curry\n",
            "請輸入球員身高（cm）：191\n",
            "請輸入球員體重（kg）：74\n",
            "球員的BMI是： 20.28453167402209\n"
          ],
          "name": "stdout"
        }
      ]
    },
    {
      "cell_type": "code",
      "metadata": {
        "id": "YqNVaJgRZP3s",
        "colab_type": "code",
        "colab": {}
      },
      "source": [
        ""
      ],
      "execution_count": 0,
      "outputs": []
    }
  ]
}