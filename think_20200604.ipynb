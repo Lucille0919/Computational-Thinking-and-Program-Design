{
  "nbformat": 4,
  "nbformat_minor": 0,
  "metadata": {
    "colab": {
      "name": "think_20200604.ipynb",
      "provenance": [],
      "authorship_tag": "ABX9TyO9Gd328B265v5YhHJlNSgl",
      "include_colab_link": true
    },
    "kernelspec": {
      "name": "python3",
      "display_name": "Python 3"
    }
  },
  "cells": [
    {
      "cell_type": "markdown",
      "metadata": {
        "id": "view-in-github",
        "colab_type": "text"
      },
      "source": [
        "<a href=\"https://colab.research.google.com/github/Lucille0919/Computational-Thinking-and-Program-Design/blob/master/think_20200604.ipynb\" target=\"_parent\"><img src=\"https://colab.research.google.com/assets/colab-badge.svg\" alt=\"Open In Colab\"/></a>"
      ]
    },
    {
      "cell_type": "code",
      "metadata": {
        "id": "dzyVKcCTkAOl",
        "colab_type": "code",
        "colab": {
          "base_uri": "https://localhost:8080/",
          "height": 84
        },
        "outputId": "cec88a2c-4fd7-4509-886c-7ccf50334903"
      },
      "source": [
        "#作業一\n",
        "\n",
        "w = float(input(\"請輸入你的體重\"))\n",
        "h = float(input(\"請輸入你的身高\"))\n",
        "\n",
        "BMI = w / (h*h)\n",
        "\n",
        "print(\"BMI指數為\",BMI)\n",
        "\n",
        "if BMI < 18.5 :\n",
        "    print(\"體重過輕，多吃一點啦\")\n",
        "elif BMI < 25 :\n",
        "      print(\"體重正常，繼續保持\")\n",
        "elif BMI < 30 :\n",
        "      print(\"體重過重，注意身材\")\n",
        "else :\n",
        "      print(\"體重肥胖，不要再吃啦\")      "
      ],
      "execution_count": 3,
      "outputs": [
        {
          "output_type": "stream",
          "text": [
            "請輸入你的體重43\n",
            "請輸入你的身高163\n",
            "BMI指數為 0.0016184274906846324\n",
            "體重過輕，多吃一點啦\n"
          ],
          "name": "stdout"
        }
      ]
    },
    {
      "cell_type": "code",
      "metadata": {
        "id": "pvWWGlzUkYgc",
        "colab_type": "code",
        "colab": {
          "base_uri": "https://localhost:8080/",
          "height": 185
        },
        "outputId": "5e82758f-6a34-42b5-fc36-2671913ab2ba"
      },
      "source": [
        "#作業二\n",
        "\n",
        "#方法一\n",
        "\n",
        "n = 0 #初始條件\n",
        "while n < 10 :  #判斷條件\n",
        "    print(\"Hello,今天如何啊\")\n",
        "    n = n + 1 #更新條件\n",
        "    "
      ],
      "execution_count": 4,
      "outputs": [
        {
          "output_type": "stream",
          "text": [
            "Hello,今天如何啊\n",
            "Hello,今天如何啊\n",
            "Hello,今天如何啊\n",
            "Hello,今天如何啊\n",
            "Hello,今天如何啊\n",
            "Hello,今天如何啊\n",
            "Hello,今天如何啊\n",
            "Hello,今天如何啊\n",
            "Hello,今天如何啊\n",
            "Hello,今天如何啊\n"
          ],
          "name": "stdout"
        }
      ]
    },
    {
      "cell_type": "code",
      "metadata": {
        "id": "11stiDAfk0ME",
        "colab_type": "code",
        "colab": {
          "base_uri": "https://localhost:8080/",
          "height": 185
        },
        "outputId": "f9663cd9-e160-47f9-e1d2-081fa7215cc6"
      },
      "source": [
        "#方法二\n",
        "\n",
        "n = 0  #初始條件\n",
        "while n< 10 :  #判斷條件\n",
        "    n = n + 1  #更新條件\n",
        "    print(\"這是第\", n ,\"次說的Hello,今天如何啊\")"
      ],
      "execution_count": 5,
      "outputs": [
        {
          "output_type": "stream",
          "text": [
            "這是第 1 次說的Hello,今天如何啊\n",
            "這是第 2 次說的Hello,今天如何啊\n",
            "這是第 3 次說的Hello,今天如何啊\n",
            "這是第 4 次說的Hello,今天如何啊\n",
            "這是第 5 次說的Hello,今天如何啊\n",
            "這是第 6 次說的Hello,今天如何啊\n",
            "這是第 7 次說的Hello,今天如何啊\n",
            "這是第 8 次說的Hello,今天如何啊\n",
            "這是第 9 次說的Hello,今天如何啊\n",
            "這是第 10 次說的Hello,今天如何啊\n"
          ],
          "name": "stdout"
        }
      ]
    },
    {
      "cell_type": "code",
      "metadata": {
        "id": "sbHw91pJk5MO",
        "colab_type": "code",
        "colab": {
          "base_uri": "https://localhost:8080/",
          "height": 353
        },
        "outputId": "71393d6a-27fc-43ba-f1a2-a98642b70eb1"
      },
      "source": [
        "#方法三\n",
        "\n",
        "n = 0  #初始條件\n",
        "while n < 10 :  #判斷條件\n",
        "    n = n + 1  #更新條件\n",
        "    print(n)\n",
        "    print(\"Hello,今天如何啊\")"
      ],
      "execution_count": 6,
      "outputs": [
        {
          "output_type": "stream",
          "text": [
            "1\n",
            "Hello,今天如何啊\n",
            "2\n",
            "Hello,今天如何啊\n",
            "3\n",
            "Hello,今天如何啊\n",
            "4\n",
            "Hello,今天如何啊\n",
            "5\n",
            "Hello,今天如何啊\n",
            "6\n",
            "Hello,今天如何啊\n",
            "7\n",
            "Hello,今天如何啊\n",
            "8\n",
            "Hello,今天如何啊\n",
            "9\n",
            "Hello,今天如何啊\n",
            "10\n",
            "Hello,今天如何啊\n"
          ],
          "name": "stdout"
        }
      ]
    }
  ]
}