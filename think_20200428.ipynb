{
  "nbformat": 4,
  "nbformat_minor": 0,
  "metadata": {
    "colab": {
      "name": "think_20200428.ipynb",
      "provenance": [],
      "authorship_tag": "ABX9TyN3HN0qA/mEieZC63zN/jjN",
      "include_colab_link": true
    },
    "kernelspec": {
      "name": "python3",
      "display_name": "Python 3"
    }
  },
  "cells": [
    {
      "cell_type": "markdown",
      "metadata": {
        "id": "view-in-github",
        "colab_type": "text"
      },
      "source": [
        "<a href=\"https://colab.research.google.com/github/Lucille0919/Computational-Thinking-and-Program-Design/blob/master/think_20200428.ipynb\" target=\"_parent\"><img src=\"https://colab.research.google.com/assets/colab-badge.svg\" alt=\"Open In Colab\"/></a>"
      ]
    },
    {
      "cell_type": "markdown",
      "metadata": {
        "id": "qM0wL-IehhaA",
        "colab_type": "text"
      },
      "source": [
        "LBD 1: 請設計一個程式計算圓面積與圓周長，依輸入的半徑計算圓面積與圓周長。"
      ]
    },
    {
      "cell_type": "code",
      "metadata": {
        "id": "Wqs2Un_VhgrD",
        "colab_type": "code",
        "colab": {
          "base_uri": "https://localhost:8080/",
          "height": 67
        },
        "outputId": "ce64e697-cc67-42fb-f956-9584a9ef1518"
      },
      "source": [
        "半徑=int(input('請輸入半徑'))\n",
        "圓面積=(半徑*半徑*3.14)\n",
        "圓周長=(半徑*2*3.14)\n",
        "print('面積為',圓面積)\n",
        "print('周長為',圓周長)"
      ],
      "execution_count": 1,
      "outputs": [
        {
          "output_type": "stream",
          "text": [
            "請輸入半徑5\n",
            "面積為 78.5\n",
            "周長為 31.400000000000002\n"
          ],
          "name": "stdout"
        }
      ]
    },
    {
      "cell_type": "markdown",
      "metadata": {
        "id": "VQOn3rbghx2B",
        "colab_type": "text"
      },
      "source": [
        "LBD 2: 請設計一個程式將輸入的攝氏溫度轉成華氏溫度，轉換公式如下:華氏溫度= 攝氏溫度*9/5+32¶"
      ]
    },
    {
      "cell_type": "code",
      "metadata": {
        "id": "7Y6UHnROhyVh",
        "colab_type": "code",
        "colab": {
          "base_uri": "https://localhost:8080/",
          "height": 50
        },
        "outputId": "45216b12-0eb0-459b-9420-cc803e19d940"
      },
      "source": [
        "攝氏溫度=int(input('請輸入攝氏溫度'))\n",
        "華氏溫度=(攝氏溫度*9/5+32)\n",
        "print('華氏溫度為',華氏溫度)"
      ],
      "execution_count": 2,
      "outputs": [
        {
          "output_type": "stream",
          "text": [
            "請輸入攝氏溫度26\n",
            "華氏溫度為 78.8\n"
          ],
          "name": "stdout"
        }
      ]
    },
    {
      "cell_type": "markdown",
      "metadata": {
        "id": "ccCZmL_mh4f3",
        "colab_type": "text"
      },
      "source": [
        "LBD 3: 假設上衣300元、褲子350元與背心400元，使用者可以自行輸入三種服裝的數量，請設計一個程式計算訂購服裝的總金額。"
      ]
    },
    {
      "cell_type": "code",
      "metadata": {
        "id": "1lH79KIuh5FP",
        "colab_type": "code",
        "colab": {
          "base_uri": "https://localhost:8080/",
          "height": 84
        },
        "outputId": "24c9c704-5f24-41bc-ad9e-a633781dc662"
      },
      "source": [
        "上衣=int(input('請輸入上衣數量?'))\n",
        "褲子=int(input('請輸入褲子數量?'))\n",
        "背心=int(input('請輸入背心數量?'))\n",
        "總金額=上衣*300+褲子*350+背心*400\n",
        "print('訂購服裝的總金額為',總金額)"
      ],
      "execution_count": 3,
      "outputs": [
        {
          "output_type": "stream",
          "text": [
            "請輸入上衣數量?3\n",
            "請輸入褲子數量?2\n",
            "請輸入背心數量?1\n",
            "訂購服裝的總金額為 2000\n"
          ],
          "name": "stdout"
        }
      ]
    },
    {
      "cell_type": "markdown",
      "metadata": {
        "id": "lyyJ6rabiBWV",
        "colab_type": "text"
      },
      "source": [
        "LBD 4: 為了刺激銷售量，賣場通常買一打會比買一罐便宜，假設一罐賣20元，一打賣200元，請設計一個程式計算買幾罐需花多少錢，若不足一打就個別買。"
      ]
    },
    {
      "cell_type": "code",
      "metadata": {
        "id": "Ddg9bCQUiBz_",
        "colab_type": "code",
        "colab": {
          "base_uri": "https://localhost:8080/",
          "height": 50
        },
        "outputId": "9c5f2551-b66a-4115-94ed-00903c95a2f3"
      },
      "source": [
        "飲料數量=int(input('請輸入飲料數量?'))\n",
        "打數=(飲料數量//12)\n",
        "罐數=(飲料數量%12)\n",
        "總金額=打數*200+罐數*20\n",
        "print('飲料的總金額為',總金額)"
      ],
      "execution_count": 4,
      "outputs": [
        {
          "output_type": "stream",
          "text": [
            "請輸入飲料數量?46\n",
            "飲料的總金額為 800\n"
          ],
          "name": "stdout"
        }
      ]
    },
    {
      "cell_type": "markdown",
      "metadata": {
        "id": "P1R1s8EmiNJo",
        "colab_type": "text"
      },
      "source": [
        "LBD 5: 請輸入第一次期中考、第二次期中考與期末考成績，成績皆為整數，請計算分數的加總與平均。"
      ]
    },
    {
      "cell_type": "code",
      "metadata": {
        "id": "z2jSLMCMiM2g",
        "colab_type": "code",
        "colab": {
          "base_uri": "https://localhost:8080/",
          "height": 101
        },
        "outputId": "e22df3a5-942a-42a2-fa61-8b2c418b01df"
      },
      "source": [
        "第一次期中考成績 = int(input(\"請輸入第一次期中考成績\"))\n",
        "第二次期中考成績 = int(input(\"請輸入第二次期中考成績\"))\n",
        "期末考成績 = int(input(\"請輸入期末考成績\"))\n",
        "總分數 = 第一次期中考成績 + 第二次期中考成績 + 期末考成績\n",
        "print(\"總分數為\",總分數)\n",
        "平均分數 = (第一次期中考成績 + 第二次期中考成績 + 期末考成績)//3\n",
        "print(\"平均分數為\",平均分數)"
      ],
      "execution_count": 6,
      "outputs": [
        {
          "output_type": "stream",
          "text": [
            "請輸入第一次期中考成績90\n",
            "請輸入第二次期中考成績82\n",
            "請輸入期末考成績86\n",
            "總分數為 258\n",
            "平均分數為 86\n"
          ],
          "name": "stdout"
        }
      ]
    }
  ]
}